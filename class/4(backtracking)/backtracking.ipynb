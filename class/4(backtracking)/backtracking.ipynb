{
 "cells": [
  {
   "cell_type": "markdown",
   "metadata": {},
   "source": [
    "# Backtracking"
   ]
  },
  {
   "cell_type": "markdown",
   "metadata": {},
   "source": [
    "Backtracking is a systematic exploration of the search space of a particular problem.\n",
    "\n",
    "General backtracking procedure, given a partial solution s:\n",
    "- Verify if s is a solution. If s is a solution, process it (problem dependent).\n",
    "- Create all extended solution starting at s.\n",
    "- Verify border conditions.\n",
    "- Recursively call this procedure for all extended solutions.\n",
    "\n",
    "Backtracking can be used to explore all solutions, find the first solution (with a property in particular) or find the optimal solution."
   ]
  },
  {
   "cell_type": "markdown",
   "metadata": {},
   "source": [
    "## Solution Space"
   ]
  },
  {
   "cell_type": "markdown",
   "metadata": {},
   "source": [
    "Let’s assume that a solution can be modeled with a vector $s = (s_1,s_2, \\dots s_n)$, where each $s_i$ can take values from a finite set $S_i$.\n",
    "\n",
    "- A candidate solution is of the form: $$ s_T = (s_1,\\dots,s_k) $$\n",
    "- Extending the solution $s_T$ is achieved by adding an element: $$ s_{T+1} = (s_1,\\dots,s_T,s_{T+1}) $$"
   ]
  },
  {
   "cell_type": "markdown",
   "metadata": {},
   "source": [
    "## Generic Algorithm"
   ]
  },
  {
   "cell_type": "markdown",
   "metadata": {},
   "source": [
    "### Algorithm"
   ]
  },
  {
   "cell_type": "markdown",
   "metadata": {},
   "source": [
    "```\n",
    "backtracking(A, k):\n",
    "    if done:\n",
    "        then return\n",
    "    if is_solution(A, k):\n",
    "        process_solution(A, k)\n",
    "    for each c in extend_solution(A, k):\n",
    "        A[k] = c\n",
    "        if test(A, k):\n",
    "            backtracking(A, k+1)\n",
    "```"
   ]
  },
  {
   "cell_type": "markdown",
   "metadata": {},
   "source": [
    "- `is_solution(A, k)` indicates if the argument if a complete solution to the problem.\n",
    "- `process_solution(A, k)` process a/the solution to the problem.\n",
    "- `extend_solution(A, k)` given a partial solution, return/generates all solution one step larger.\n",
    "- `test(A, k)` this function returns true if the extended solution is a valid solution.\n",
    "- done global variable that signals if no more backtracking is required"
   ]
  },
  {
   "cell_type": "markdown",
   "metadata": {},
   "source": [
    "### Approach"
   ]
  },
  {
   "cell_type": "markdown",
   "metadata": {},
   "source": [
    "- How do we model $s$?\n",
    "- How do we extend a solution?\n",
    "- How do we process the solution?"
   ]
  },
  {
   "cell_type": "markdown",
   "metadata": {},
   "source": [
    "### Example"
   ]
  },
  {
   "cell_type": "markdown",
   "metadata": {},
   "source": [
    "#### Problem"
   ]
  },
  {
   "cell_type": "markdown",
   "metadata": {},
   "source": [
    "Find **all** subsets of size $n$ of a total of $m$ elements."
   ]
  },
  {
   "cell_type": "markdown",
   "metadata": {},
   "source": [
    "#### Approach"
   ]
  },
  {
   "cell_type": "markdown",
   "metadata": {},
   "source": [
    "- We model subsets as a binary array `s []` in which, is `s[i] == True` indicates that the *i*th element belongs to the subset.\n",
    "- We extend a partial solution appending either a `True` or a `False` to the end of the partial solution.\n",
    "- We print a solution once we find it\n",
    "    - A **partial solution** is any such that $\\sum_i s[i] < n$ and `len(s) < m`.\n",
    "    - A **solution** to the problem is any such that $\\sum_i s[i] = n$ and `len(s) == m`."
   ]
  },
  {
   "cell_type": "markdown",
   "metadata": {},
   "source": [
    "#### Implementation"
   ]
  },
  {
   "cell_type": "markdown",
   "metadata": {},
   "source": [
    "##### Check if a partial solution is a solution to the problem"
   ]
  },
  {
   "cell_type": "code",
   "execution_count": 1,
   "metadata": {},
   "outputs": [],
   "source": [
    "def is_solution(a, n, m):\n",
    "    if len(a) == m and sum(a) == n:\n",
    "        return True\n",
    "    return False"
   ]
  },
  {
   "cell_type": "markdown",
   "metadata": {},
   "source": [
    "##### Extend a partial solution"
   ]
  },
  {
   "cell_type": "code",
   "execution_count": 3,
   "metadata": {},
   "outputs": [],
   "source": [
    "def extend_solution(a, m):\n",
    "    if len(a) < m:\n",
    "        for c in [True, False]:\n",
    "            yield a + [c]"
   ]
  },
  {
   "cell_type": "markdown",
   "metadata": {},
   "source": [
    "Why `a + [c]` and not `a.append(c)`?"
   ]
  },
  {
   "cell_type": "markdown",
   "metadata": {},
   "source": [
    "##### Process the solution"
   ]
  },
  {
   "cell_type": "code",
   "execution_count": 4,
   "metadata": {},
   "outputs": [],
   "source": [
    "def process_solution(a):\n",
    "    friendly = map(lambda x: str(x[0]), filter(lambda x: x[1], enumerate(a)))\n",
    "    print(\"Subset with the following elements \" + \", \".join(friendly))"
   ]
  },
  {
   "cell_type": "markdown",
   "metadata": {},
   "source": [
    "On this specific case we are only printing it"
   ]
  },
  {
   "cell_type": "markdown",
   "metadata": {},
   "source": [
    "##### All together"
   ]
  },
  {
   "cell_type": "code",
   "execution_count": 5,
   "metadata": {},
   "outputs": [],
   "source": [
    "def backtracking(n, m, a=[]):\n",
    "    if is_solution(a, n, m):\n",
    "        process_solution(a)\n",
    "    else:\n",
    "        for a_extended in extend_solution(a, m):\n",
    "            backtracking(n, m, a_extended)"
   ]
  },
  {
   "cell_type": "markdown",
   "metadata": {},
   "source": [
    "Now lets find all subsets of size 4 out of a set with 6 elements"
   ]
  },
  {
   "cell_type": "code",
   "execution_count": null,
   "metadata": {},
   "outputs": [],
   "source": [
    "backtracking(4, 6)"
   ]
  },
  {
   "cell_type": "markdown",
   "metadata": {},
   "source": [
    "## Other Examples"
   ]
  },
  {
   "cell_type": "markdown",
   "metadata": {},
   "source": [
    "### Task Assignment"
   ]
  },
  {
   "cell_type": "markdown",
   "metadata": {},
   "source": [
    "#### Problem"
   ]
  },
  {
   "cell_type": "markdown",
   "metadata": {},
   "source": [
    "Given $n$ workers, $n$ tasks and a cost matrix, e.g. $C[i,j]$ that represents how many man-hours it takes worker $i$ to complete task $j$, you are to find the task assignment (assign  ach worker to fulfill a task) that minimizes the total cost."
   ]
  },
  {
   "cell_type": "markdown",
   "metadata": {},
   "source": [
    "#### Modeling"
   ]
  },
  {
   "cell_type": "markdown",
   "metadata": {},
   "source": [
    "- We model the assignment as a list of tuples $(w, t)$ which assigns worker $w$ to task $t$.\n",
    "- We extend a solution by adding a new tuple to the list, composed of an unassigned worker and an unfulfilled task.\n",
    "- Once we find a valid solution, we calculate its cost and keep the assignment with the lowest cost.\n",
    "    - A valid assignment is one that all workers have a task assigned, and all tasks have a worker assigned to them."
   ]
  },
  {
   "cell_type": "markdown",
   "metadata": {},
   "source": [
    "#### Implementation"
   ]
  },
  {
   "cell_type": "markdown",
   "metadata": {},
   "source": [
    "##### Check solution"
   ]
  },
  {
   "cell_type": "code",
   "execution_count": 11,
   "metadata": {},
   "outputs": [],
   "source": [
    "def is_solution(assignment, n):\n",
    "    if len(assignment) == n:\n",
    "        workers = set(w for (w,t) in assignment)\n",
    "        tasks = set(t for (w,t) in assignment)\n",
    "        if len(workers) != n or len(tasks) != n:\n",
    "            return False\n",
    "        return True\n",
    "    return False"
   ]
  },
  {
   "cell_type": "markdown",
   "metadata": {},
   "source": [
    "##### Extend solution"
   ]
  },
  {
   "cell_type": "code",
   "execution_count": 14,
   "metadata": {},
   "outputs": [],
   "source": [
    "def extend_solution(assignment, n):\n",
    "    workers = sorted([w for (w,t) in assignment])\n",
    "    tasks = sorted([t for (w,t) in assignment])\n",
    "    free_workers = [x for x in range(n) if x not in workers]\n",
    "    free_tasks = [x for x in range(n) if x not in tasks]\n",
    "    for t in free_workers:\n",
    "        for T in free_tasks:\n",
    "            yield assignment + [(t, T)]"
   ]
  },
  {
   "cell_type": "markdown",
   "metadata": {},
   "source": [
    "##### Process solution"
   ]
  },
  {
   "cell_type": "code",
   "execution_count": 15,
   "metadata": {},
   "outputs": [],
   "source": [
    "def process_solution(assignment, costs):\n",
    "    global best_assignment\n",
    "    cost = sum(costs[w][t] for (w, t) in assignment)\n",
    "    if best_assignment is None or cost < best_assignment[1]:\n",
    "        best_assignment = (assignment, cost)\n"
   ]
  },
  {
   "cell_type": "markdown",
   "metadata": {},
   "source": [
    "##### Backtracking"
   ]
  },
  {
   "cell_type": "code",
   "execution_count": 16,
   "metadata": {},
   "outputs": [],
   "source": [
    "def backtracking(costs, assignment=[]):\n",
    "    n = len(costs)\n",
    "    if is_solution(assignment, n):\n",
    "        process_solution(assignment, costs)\n",
    "    else:\n",
    "        for extended_assignment in extend_solution(assignment, n):\n",
    "            backtracking(costs, extended_assignment)"
   ]
  },
  {
   "cell_type": "code",
   "execution_count": null,
   "metadata": {},
   "outputs": [],
   "source": [
    "best_assignment = None\n",
    "costs=[\n",
    "    [4,2,3,1],\n",
    "    [9,3,4,2],\n",
    "    [2,4,6,2],\n",
    "    [7,3,1,0]\n",
    "]\n",
    "\n",
    "backtracking(costs)\n",
    "\n",
    "print(f\"The best assignment has a cost of {best_assignment[1]}, corresponding to:\")\n",
    "for (w, t) in best_assignment[0]:\n",
    "    print(f\"\\tAssign worker {w} to task {t}.\")"
   ]
  },
  {
   "cell_type": "markdown",
   "metadata": {},
   "source": [
    "### Sudoku"
   ]
  },
  {
   "cell_type": "markdown",
   "metadata": {},
   "source": [
    "#### Problem"
   ]
  },
  {
   "cell_type": "markdown",
   "metadata": {},
   "source": [
    "- A Sudoku is a $9x9$ board where repeated values are not allowed by looking at each:\n",
    "    - Row\n",
    "    - Column\n",
    "    - $3x3$ block\n",
    "- The values are numbers that go from $1$ to $9$"
   ]
  },
  {
   "cell_type": "markdown",
   "metadata": {},
   "source": [
    "```\n",
    "+-------+-------+-------+\n",
    "|       |       |       |\n",
    "|       |     3 |   5 8 |\n",
    "|     1 |   2   |       |\n",
    "+-------+-------+-------+\n",
    "|       | 5   7 |       |\n",
    "|     4 |       | 1     |\n",
    "|   9   |       |       |\n",
    "+-------+-------+-------+\n",
    "| 5     |       |   7 3 |\n",
    "|     2 |   1   |       |\n",
    "|       |   4   |     9 |\n",
    "+-------+-------+-------+\n",
    "```"
   ]
  },
  {
   "cell_type": "markdown",
   "metadata": {},
   "source": [
    "#### Modeling"
   ]
  },
  {
   "cell_type": "markdown",
   "metadata": {},
   "source": [
    "- We model the sudoku as list of 81 elements, where:\n",
    "    - for every row $r \\in {0,8}$, the index of elements in the list that belong to that row are: $[9r + 0, 9r + 2, \\dots, 9r + 8]$\n",
    "    - for every column $c \\in {0,8}$, the index of elements in the list that belong to that column are: $[0 + 9c, 2 + 9c, \\dots, 8 + 9c]$\n",
    "    - for every row $r \\in {0,8}$ and column $c \\in {0,8}$, the index of elements in the list that belong to a block are $[9*(c//3) + c\\%3 + (r//3)*27 + (r\\%3)*3]$\n",
    "    - the list may have empty elements, that will need to be filled\n",
    "- We extend the solution by replacing an empty element with a value.\n",
    "- Once we find a solution, we check if every row, column and block are composed of unique elements."
   ]
  },
  {
   "cell_type": "markdown",
   "metadata": {},
   "source": [
    "#### Implementation"
   ]
  },
  {
   "cell_type": "markdown",
   "metadata": {},
   "source": [
    "##### Check solution"
   ]
  },
  {
   "cell_type": "code",
   "execution_count": 19,
   "metadata": {},
   "outputs": [],
   "source": [
    "def is_solution(solution):\n",
    "    none_elems = list(filter(lambda x: x is None, solution))\n",
    "    if len(none_elems) == 0:\n",
    "        return True\n",
    "    return False"
   ]
  },
  {
   "cell_type": "markdown",
   "metadata": {},
   "source": [
    "##### Extend solution"
   ]
  },
  {
   "cell_type": "code",
   "execution_count": 20,
   "metadata": {},
   "outputs": [],
   "source": [
    "def extend_solution(solution):\n",
    "    none_elems = list(filter(lambda x: x is None, solution))\n",
    "    if len(none_elems) > 0:\n",
    "        idx = next(i for i in range(81) if solution[i] is None)\n",
    "        for value in range(1,10):\n",
    "            new_solution = list(solution)\n",
    "            new_solution[idx] = value\n",
    "            yield new_solution"
   ]
  },
  {
   "cell_type": "code",
   "execution_count": 21,
   "metadata": {},
   "outputs": [],
   "source": [
    "def test(solution):\n",
    "    for r in range(9):\n",
    "        partial = [[], [], []]\n",
    "        for c in range(9):\n",
    "            if solution[9*r + c] is not None:\n",
    "                partial[0].append(solution[9*r + c])\n",
    "            if solution[r + 9*c] is not None:\n",
    "                partial[1].append(solution[r + 9*c])\n",
    "            if solution[9*(c//3) + c%3 + (r//3)*27 + (r%3)*3] is not None:\n",
    "                partial[2].append(solution[9*(c//3) + c%3 + (r//3)*27 + (r%3)*3])\n",
    "        for _, partial_ in enumerate(partial):\n",
    "            if len(list(set(partial_))) != len(partial_):\n",
    "                return False\n",
    "    return True"
   ]
  },
  {
   "cell_type": "markdown",
   "metadata": {},
   "source": [
    "##### Process solution"
   ]
  },
  {
   "cell_type": "code",
   "execution_count": 22,
   "metadata": {},
   "outputs": [],
   "source": [
    "def process_solution(solution):\n",
    "    for r in range(9):\n",
    "        if r % 3 == 0:\n",
    "            print(\"+-------+-------+-------+\")\n",
    "        print(\n",
    "            '|', solution[9*r], solution[9*r + 1], solution[9*r + 2],\n",
    "            '|', solution[9*r + 3], solution[9*r + 4], solution[9*r + 5],\n",
    "            '|', solution[9*r + 6], solution[9*r + 7], solution[9*r + 8],\n",
    "            '|'\n",
    "        )\n",
    "    print(\"+-------+-------+-------+\")"
   ]
  },
  {
   "cell_type": "markdown",
   "metadata": {},
   "source": [
    "##### Backtracking"
   ]
  },
  {
   "cell_type": "code",
   "execution_count": 23,
   "metadata": {},
   "outputs": [],
   "source": [
    "def backtracking(solution=[None]*81):\n",
    "    global done\n",
    "    if done:\n",
    "        return\n",
    "    if is_solution(solution):\n",
    "        done = True\n",
    "        process_solution(solution)\n",
    "    else:\n",
    "        for next_solution in extend_solution(solution):\n",
    "            if test(next_solution):\n",
    "                backtracking(next_solution)"
   ]
  },
  {
   "cell_type": "code",
   "execution_count": null,
   "metadata": {},
   "outputs": [],
   "source": [
    "done = False\n",
    "N = None\n",
    "sodoku = [\n",
    "    N, N, 3, 9, N, N, N, 5, 1,\n",
    "    5, 4, 6, N, 1, 8, 3, N, N,\n",
    "    N, N, N, N, N, 7, 4, 2, N,\n",
    "    N, N, 9, N, 5, N, N, 3, N,\n",
    "    2, N, N, 6, N, 3, N, N, 4,\n",
    "    N, 8, N, N, 7, N, 2, N, N,\n",
    "    N, 9, 7, 3, N, N, N, N, N,\n",
    "    N, N, 1, 8, 2, N, 9, 4, 7,\n",
    "    8, 5, N, N, N, 4, 6, N, N\n",
    "]\n",
    "backtracking(sodoku)"
   ]
  },
  {
   "cell_type": "code",
   "execution_count": null,
   "metadata": {},
   "outputs": [],
   "source": []
  }
 ],
 "metadata": {
  "kernelspec": {
   "display_name": "Python 3",
   "language": "python",
   "name": "python3"
  },
  "language_info": {
   "codemirror_mode": {
    "name": "ipython",
    "version": 3
   },
   "file_extension": ".py",
   "mimetype": "text/x-python",
   "name": "python",
   "nbconvert_exporter": "python",
   "pygments_lexer": "ipython3",
   "version": "3.11.1"
  }
 },
 "nbformat": 4,
 "nbformat_minor": 2
}
