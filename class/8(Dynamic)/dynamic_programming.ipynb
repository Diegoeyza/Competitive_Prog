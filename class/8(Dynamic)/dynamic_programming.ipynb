{
 "cells": [
  {
   "cell_type": "markdown",
   "metadata": {},
   "source": [
    "# Dynamic Programing I"
   ]
  },
  {
   "cell_type": "markdown",
   "metadata": {},
   "source": [
    "Dynamic Programing is a general technique to solve optimizaiton and/or search algorithms that allows to reduce the complexity from (usually) an exponential time complexity to a polinomial one.\n",
    "\n",
    "The key insight is that the main problem can be divided into sub-problems which can be recursively solved. These problems have an **optimal** substructure.\n",
    "\n",
    "In a sense, Dynamic Programing is a smart backtracking implementation.\n",
    "\n",
    "Typical Dynamic Programing problems are counting or optimization ones.\n",
    "\n",
    "A generic approach to solve this kind of problems is as follows:\n",
    "1. Fund sub-problems.\n",
    "2. \"Guess\" a partial solution.\n",
    "3. Relate sub-problems.\n",
    "4. Recursion and memoization, or use a bottom-up approach.\n",
    "5. Find the solution to the original problem."
   ]
  },
  {
   "cell_type": "markdown",
   "metadata": {},
   "source": [
    "### 1. Find sub-problems"
   ]
  },
  {
   "cell_type": "markdown",
   "metadata": {},
   "source": [
    "Divide the original problem into a number of related sub-problems.\n",
    "\n",
    "For example: Let $S[n]$ be a solution to sub-problems using only the first $n$ constraints."
   ]
  },
  {
   "cell_type": "markdown",
   "metadata": {},
   "source": [
    "### 2. \"Guess\" partial solution"
   ]
  },
  {
   "cell_type": "markdown",
   "metadata": {},
   "source": [
    "Construct a partial solution by \"guessing\" part of it.\n",
    "\n",
    "For example: If we knew the optimal $n-1$ *-th* sub-problem solution, we can construct the *n-th* sub-problem solution as:\n",
    "\n",
    "$$S[n] = S[n-1] \\oplus c*(n)$$"
   ]
  },
  {
   "cell_type": "markdown",
   "metadata": {},
   "source": [
    "### 3. Relate sub-problems"
   ]
  },
  {
   "cell_type": "markdown",
   "metadata": {},
   "source": [
    "Find a general recursion for $S[n]$.\n",
    "\n",
    "For example:\n",
    "\n",
    "$$S[n] = \\max_{i} S[n-1] \\oplus c_i*(n)$$\n",
    "\n",
    "and\n",
    "\n",
    "$$S[1]=k$$"
   ]
  },
  {
   "cell_type": "markdown",
   "metadata": {},
   "source": [
    "### 4. Recursion and memoization, or bottom-up approach."
   ]
  },
  {
   "cell_type": "markdown",
   "metadata": {},
   "source": [
    "Use recursion with memoization to solve the equation for $S[n]$ or build a solution $S[n]$ from the smalest patial solutions.\n",
    "\n",
    "For example:\n",
    "\n",
    "Memoization\n",
    "```Python\n",
    "@functools.lru_cache(None)\n",
    "def S(n):\n",
    "    return max(S(n-1) + c(i) for i in I)\n",
    "```\n",
    "\n",
    "Bottom-up\n",
    "```Python\n",
    "def S(n):\n",
    "    partial_S = [CONST]\n",
    "    for k in range(1, n+1):\n",
    "        Sk = max(partial_S[k-1] + c(i) for i in I)\n",
    "        partial_S.append(Sk)\n",
    "    return partial_S[n]\n",
    "```"
   ]
  },
  {
   "cell_type": "markdown",
   "metadata": {},
   "source": [
    "### 5. Find the solution to the original problem."
   ]
  },
  {
   "cell_type": "markdown",
   "metadata": {},
   "source": [
    "Find which partial solution(s) applies to the original problem.\n",
    "\n",
    "Usually, $S[n]$ with $n$ the size of the problem is a sub-problem equivalent to the original problem."
   ]
  },
  {
   "cell_type": "markdown",
   "metadata": {},
   "source": [
    "## Example: Shortest path (Bellman-Ford)"
   ]
  },
  {
   "cell_type": "markdown",
   "metadata": {},
   "source": [
    "Find the shortest path from a node to all other nodes."
   ]
  },
  {
   "cell_type": "markdown",
   "metadata": {},
   "source": [
    "### 1. Find sub-problems"
   ]
  },
  {
   "cell_type": "markdown",
   "metadata": {},
   "source": [
    "Define a sub-problem $S[u,v]$ as distance of the shortest path between nodes $u$ and $v$."
   ]
  },
  {
   "cell_type": "markdown",
   "metadata": {},
   "source": [
    "### 2. \"Guess\" partial solution"
   ]
  },
  {
   "cell_type": "markdown",
   "metadata": {},
   "source": [
    "If we know the optimal first step, we can divide the shortest path between $u$ and $v$ as a path between $u$ and $w$, and a single optimal path between $w$ and $v$:\n",
    "\n",
    "$$S[u,v] = \\min_{w}S[u,w] + c(w,v)$$\n",
    "\n",
    "But we have a problem here, as this definition fails for graphs with cycles."
   ]
  },
  {
   "cell_type": "markdown",
   "metadata": {},
   "source": [
    "### 1. Sub-problem definition"
   ]
  },
  {
   "cell_type": "markdown",
   "metadata": {},
   "source": [
    "Define the sub-problem $S[u,v,k]$ as distance of the shortest path between nodes $u$ and $v$ using at most $k$ nodes."
   ]
  },
  {
   "cell_type": "markdown",
   "metadata": {},
   "source": [
    "### 2. \"Guess\" partial solution"
   ]
  },
  {
   "cell_type": "markdown",
   "metadata": {},
   "source": [
    "Make explicit the length of the path:\n",
    "\n",
    "$$S[u,v,k] = S[u,w,k-1] + c(w,v)$$"
   ]
  },
  {
   "cell_type": "markdown",
   "metadata": {},
   "source": [
    "### 3. Relate sub-problems"
   ]
  },
  {
   "cell_type": "markdown",
   "metadata": {},
   "source": [
    "Relate sub-problems of increasing path-length. Note that now we must compare the paths that use $k$ nodes and the paths using $k-1$ nodes:\n",
    "\n",
    "$$S[u,v,k] = \\min\\left[S[u,v,k-1], \\left(\\min_{w}S[u,w,k-1]+c(w,v)\\right)\\right]$$\n",
    "\n",
    "With\n",
    "\n",
    "$$S[u,v,1] = c(u,v)$$"
   ]
  },
  {
   "cell_type": "markdown",
   "metadata": {},
   "source": [
    "### 4. Recursion and memoization, or bottom-up approach."
   ]
  },
  {
   "cell_type": "markdown",
   "metadata": {},
   "source": [
    "#### 4.1 Memoization"
   ]
  },
  {
   "cell_type": "markdown",
   "metadata": {},
   "source": [
    "```Python\n",
    "G = {\n",
    "    0: {1: 1, {2: 1}, ...},\n",
    "    ...\n",
    "}\n",
    "memory = dict()\n",
    "def short_path_memory(G, u, v, k):\n",
    "    if k == 1:\n",
    "        return G[u][v]\n",
    "    if (u, v, k) in memory:\n",
    "        return memory[(u, v, k)]\n",
    "    Sk = min(short_path_memory(G, u, v, k-1),\n",
    "             min(short_path_memory(G, u, w, k-1) + G[w][v] for w in G))\n",
    "    memory[(u, v, k)] = Sk\n",
    "    return Sk\n",
    "```"
   ]
  },
  {
   "cell_type": "markdown",
   "metadata": {},
   "source": [
    "#### 4.2 Bottom-up"
   ]
  },
  {
   "cell_type": "markdown",
   "metadata": {},
   "source": [
    "```Python\n",
    "INF = 1E6\n",
    "def short_path_bottomup(G, u):\n",
    "    D1 = defaultdict(lambda: math.inf)\n",
    "    for v in G[u]:\n",
    "        D1[v] = G[u][v]\n",
    "    for k in range(1, len(G)):\n",
    "        D2 = defaultdict(lambda: math.inf)\n",
    "        for v in G:\n",
    "            D2[v] = min(D1[v], min(D1[w] + G[w][v] for w in G))\n",
    "        D1 = D2\n",
    "    return D1\n",
    "```"
   ]
  },
  {
   "cell_type": "markdown",
   "metadata": {},
   "source": [
    "## Example: Edit distance"
   ]
  },
  {
   "cell_type": "markdown",
   "metadata": {},
   "source": [
    "Given two strings $s_1$ and $s_2$, what is the minimum number of insertion or deletions to make both strings equal?\n",
    "\n",
    "- Sub-problem: Calculate edit distance between $s_1[i:]$ and $s_2[j:]$\n",
    "- Guess solution: If $s_1[i] \\neq s_2[j]$\n",
    "    - Remove $s_1[i]$ (or prepend $s_1[i]$ to $s_2[j:]$) and calculate edit distance between $s_1[i+1 :]$ and $s_2[j]$\n",
    "    - Remove $s_2[j]$ (or prepend $s_2[j]$ to $s_1[i:]$) and calculate edit distance between $s_2[j+1 :]$ and $s_1[i]$\n",
    "- Relate sub-problems:\n",
    "$$d(s_1,s_2) = \\begin{cases}\n",
    "    \\max|s_1|,|s_2| & |s_1|=0 \\vee |s_2| = 0 \\\\\n",
    "    d(s_1[1:],s2[1:]) & s_1[0] = s_2[0] \\\\\n",
    "    1 + \\min d(s_1[1:],s2), d(s_1,s_2[1:]) & \\text{in other cases.}\n",
    "\\end{cases}$$\n",
    "- Recursion with memoization"
   ]
  },
  {
   "cell_type": "code",
   "execution_count": 1,
   "metadata": {},
   "outputs": [],
   "source": [
    "import functools\n",
    "@functools.lru_cache(None)\n",
    "def string_distance(s1, s2):\n",
    "    if len(s1) == 0 or len(s2) == 0:\n",
    "        return max(len(s1), len(s2))\n",
    "    if s1[0] == s2[0]:\n",
    "        return string_distance(s1[1:], s2[1:])\n",
    "    else:\n",
    "        return 1 + min(string_distance(s1[1:], s2),\n",
    "                       string_distance(s1, s2[1:]))"
   ]
  },
  {
   "cell_type": "code",
   "execution_count": null,
   "metadata": {},
   "outputs": [],
   "source": [
    "string_distance('electroencefalografista', 'esternocleidomastoideo')"
   ]
  },
  {
   "cell_type": "markdown",
   "metadata": {},
   "source": [
    "## Classical Dynamic Programing"
   ]
  },
  {
   "cell_type": "markdown",
   "metadata": {},
   "source": [
    "There are a number of classical Dynamic Programing problems for which the solution is well known:"
   ]
  },
  {
   "cell_type": "markdown",
   "metadata": {},
   "source": [
    "### Max 1/2D sums"
   ]
  },
  {
   "cell_type": "markdown",
   "metadata": {},
   "source": [
    "Finding the maximum sum of a 1D array can be computed by brute force in $O(n^3)$ (calculate all possible sums of all possible intervals and find the maximum one). Using `MAXSUM(i)` as the value for the maximum sum ending at index `i`, we can calculate it in $O(n)$:\n",
    "\n",
    "```\n",
    "MAXSUM(0) = V(0)\n",
    "MAXSUM(i) = max(MAXSUM(i-1) + V[i], V[i])\n",
    "```\n",
    "\n",
    "And the maximum sub-sum is `max(MAXSUM(i))`.\n",
    "\n",
    "For 2D arrays, the brute force approach can be achieved in $O(n^6)$, but by pre-computing the accumulated array, finding the maximum sub-rectangle sum can be achieved in $O(n^4)$."
   ]
  },
  {
   "cell_type": "markdown",
   "metadata": {},
   "source": [
    "### Longest increasing subsequence"
   ]
  },
  {
   "cell_type": "markdown",
   "metadata": {},
   "source": [
    "The problem is to find a subsequence of numbers (not necessarily contiguous) such as the values are in an increasing order. A brute force algorithm that lists/enumerates all subsequences and then finds the longest one, has complexity $O(2^n)$. A better approach is to define the function `LIS(i)` as the longest subsequence up to index `i`, and then the recursion:\n",
    "\n",
    "```\n",
    "LIS(0) = 1\n",
    "LIS(i) = max(LIS(j) + 1 for j in range(i) if seq[j] < seq[i])\n",
    "```"
   ]
  },
  {
   "cell_type": "markdown",
   "metadata": {},
   "source": [
    "### 0-1 Knapsack (Subset Sum)"
   ]
  },
  {
   "cell_type": "markdown",
   "metadata": {},
   "source": [
    "This is a known NP problem, and as such, hard to solve. Given `n` items with values `v[i]` and weights `w[i]` and a knapsack with size `S`, find the maximum value you can carry by either taking or ignoring an item.\n",
    "\n",
    "To solve this problem, we define `value(id, weight)` as the value of using items labeled `id` or above having remaining weight `weight`. It is possible to write the recursion as follows:\n",
    "\n",
    "```\n",
    "val(_, 0) = 0\n",
    "val(N, 0) = 0\n",
    "val(id, weight) = val(id + 1, weight) if w[id] > weight else\n",
    "    max(val(id + 1), v[id] + + val(id + 1, weight - w[id]))\n",
    "```"
   ]
  },
  {
   "cell_type": "markdown",
   "metadata": {},
   "source": [
    "### Coin Change"
   ]
  },
  {
   "cell_type": "markdown",
   "metadata": {},
   "source": [
    "Given a value `V` and coin values `values[c]` for coin `c`, what is the minimum number of coins we must use to represent `V`? We can represent this problem by the simple function:\n",
    "\n",
    "```\n",
    "change(0) = 0\n",
    "change(v) = -inf if v < 0 else 1 + min(change(v-c) for c in values)\n",
    "```"
   ]
  },
  {
   "cell_type": "markdown",
   "metadata": {},
   "source": []
  }
 ],
 "metadata": {
  "kernelspec": {
   "display_name": "Python 3",
   "language": "python",
   "name": "python3"
  },
  "language_info": {
   "codemirror_mode": {
    "name": "ipython",
    "version": 3
   },
   "file_extension": ".py",
   "mimetype": "text/x-python",
   "name": "python",
   "nbconvert_exporter": "python",
   "pygments_lexer": "ipython3",
   "version": "3.11.1"
  }
 },
 "nbformat": 4,
 "nbformat_minor": 2
}
