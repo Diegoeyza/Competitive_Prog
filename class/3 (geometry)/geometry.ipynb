{
 "cells": [
  {
   "cell_type": "markdown",
   "metadata": {},
   "source": [
    "# Geometry"
   ]
  },
  {
   "cell_type": "markdown",
   "metadata": {},
   "source": [
    "Useful formulas and algorithms to solve 2D geometric problems.\n",
    "\n",
    "Ussual issues with geometry related problems:\n",
    "* Tricky edge cases.\n",
    "* Floating point precision problems.\n",
    "* Tedious coding."
   ]
  },
  {
   "cell_type": "code",
   "execution_count": 1,
   "metadata": {},
   "outputs": [],
   "source": [
    "from dataclasses import dataclass\n",
    "from typing import List\n",
    "import math\n",
    "# numpy IS NOT part of the standard libraries\n",
    "\n",
    "EPS = 1E-8"
   ]
  },
  {
   "cell_type": "markdown",
   "metadata": {},
   "source": [
    "## Points and Lines\n"
   ]
  },
  {
   "cell_type": "markdown",
   "metadata": {},
   "source": [
    "We will define a point as a pair $(x,y)$"
   ]
  },
  {
   "cell_type": "code",
   "execution_count": 2,
   "metadata": {},
   "outputs": [],
   "source": [
    "@dataclass\n",
    "class point:\n",
    "    x: float\n",
    "    y: float"
   ]
  },
  {
   "cell_type": "markdown",
   "metadata": {},
   "source": [
    "### Operations with points"
   ]
  },
  {
   "cell_type": "markdown",
   "metadata": {},
   "source": [
    "Algebra of a point:"
   ]
  },
  {
   "cell_type": "code",
   "execution_count": 3,
   "metadata": {},
   "outputs": [],
   "source": [
    "def __add__(self, t):\n",
    "    return point(self.x + t.x, self.y + t.y)\n",
    "def __sub__(self, t):\n",
    "    return point(self.x - t.x, self.y - t.y)\n",
    "def dot(self, a):\n",
    "    return self.x*a.x + self.y*a.y"
   ]
  },
  {
   "cell_type": "markdown",
   "metadata": {},
   "source": [
    "Distance from a point to the origin:"
   ]
  },
  {
   "cell_type": "code",
   "execution_count": 4,
   "metadata": {},
   "outputs": [],
   "source": [
    "def norm(self):\n",
    "    return math.sqrt(self.dot(self))"
   ]
  },
  {
   "cell_type": "markdown",
   "metadata": {},
   "source": [
    "Rotation:"
   ]
  },
  {
   "cell_type": "code",
   "execution_count": 5,
   "metadata": {},
   "outputs": [],
   "source": [
    "def rotate(self, theta):\n",
    "    return point(\n",
    "        self.x*math.cos(theta) + self.y*math.sin(theta),\n",
    "        self.x*math.sin(theta) - self.y*math.cos(theta),\n",
    "    )"
   ]
  },
  {
   "cell_type": "markdown",
   "metadata": {},
   "source": [
    "Angle between 3 points (using the class/calling point as the center point):"
   ]
  },
  {
   "cell_type": "code",
   "execution_count": 6,
   "metadata": {},
   "outputs": [],
   "source": [
    "def angle(self, a, c):\n",
    "    s1 = a - self\n",
    "    d1 = s1.norm()\n",
    "\n",
    "    s2 = c - self\n",
    "    d2 = s2.norm()\n",
    "\n",
    "    return math.acos(s1.dot(s2)/(d1*d2))"
   ]
  },
  {
   "cell_type": "markdown",
   "metadata": {},
   "source": [
    "### Lines"
   ]
  },
  {
   "cell_type": "markdown",
   "metadata": {},
   "source": [
    "A line can be defined as:\n",
    "* A pair $(m,n)$ such that $$y=mx+n$$\n",
    "* A triplet $(a,b,c)$ such that $$ax+by+c=0$$"
   ]
  },
  {
   "cell_type": "code",
   "execution_count": 7,
   "metadata": {},
   "outputs": [],
   "source": [
    "@dataclass\n",
    "class line:\n",
    "    a: float\n",
    "    b: float\n",
    "    c: float"
   ]
  },
  {
   "cell_type": "markdown",
   "metadata": {},
   "source": [
    "Given two points $(x_1,y_1)$ and $(x_2,y_2)$, the line passing through both points can be defined as: $$m = \\frac{y_2-y_1}{x_2-x_1}$$ $$n = y_1 - mx_1 \\text{ or } y_2 - m x_2$$\n",
    "\n",
    "Or, for the general equation: $$a=1,b=0,c=-x_1$$ if $x_1 = x_2$ and $$a = -\\frac{y_1-y_2}{x_1-x_2},b=1,c=-a x_1 - y_1$$ otherwise."
   ]
  },
  {
   "cell_type": "code",
   "execution_count": 8,
   "metadata": {},
   "outputs": [],
   "source": [
    "@staticmethod\n",
    "def from_points(p1, p2):\n",
    "    if abs(p1.x - p2.x) < EPS:\n",
    "        return line(1.0, 0.0, -p1.x)\n",
    "    else:\n",
    "        a = -(p1.y - p2.y) / (p1.x - p2.x)\n",
    "        b = 1.0\n",
    "        c = -(a * p1.x) - p1.y\n",
    "        return line(a, b, c)"
   ]
  },
  {
   "cell_type": "markdown",
   "metadata": {},
   "source": [
    "We can discover the slope, or y crossing and x crossing as follows:"
   ]
  },
  {
   "cell_type": "code",
   "execution_count": 9,
   "metadata": {},
   "outputs": [],
   "source": [
    "def slope(self):\n",
    "    return -self.a / self.b\n",
    "def y_cross(self):\n",
    "    return -self.c / self.b\n",
    "def x_cross(self):\n",
    "    return -self.c / self.a"
   ]
  },
  {
   "cell_type": "markdown",
   "metadata": {},
   "source": [
    "Lines can also be represented as: $$ x\\hat n = d$$\n",
    "\n",
    "Where $\\hat{n}$ is the normal of the line and $d$ is the distance from the origin to the line:"
   ]
  },
  {
   "cell_type": "code",
   "execution_count": 10,
   "metadata": {},
   "outputs": [],
   "source": [
    "def normal(self):\n",
    "    return point(\n",
    "        self.a / math.sqrt(self.a**2 + self.b**2),\n",
    "        self.b / math.sqrt(self.a**2 + self.b**2)\n",
    "    )\n",
    "def d(self):\n",
    "    return -self.c / math.sqrt(self.a**2 + self.b**2)"
   ]
  },
  {
   "cell_type": "markdown",
   "metadata": {},
   "source": [
    "Given two lines $L_1=(a_1,b_1,c_1)$ and $L_2=(a_2,b_2,c_2)$, their interesection occurs at the point:\n",
    "$$\\left(\\frac{-b_1c_2 + b_2c_1}{a_1b_2 - a_2b_1}, \\frac{-\n",
    "a_2c_1+a_1c_2}{a_1b_2 - a_2b_1}\\right)$$"
   ]
  },
  {
   "cell_type": "code",
   "execution_count": 11,
   "metadata": {},
   "outputs": [],
   "source": [
    "def intersect(self, l):\n",
    "    return point(\n",
    "        (self.b*l.c - l.b*self.c)/ (self.a*l.b - l.a*self.b),\n",
    "        (self.a*l.c - l.a*self.c)/ (self.a*l.b - l.a*self.b)\n",
    "    )"
   ]
  },
  {
   "cell_type": "code",
   "execution_count": 12,
   "metadata": {},
   "outputs": [],
   "source": [
    "def are_parallel(self, line):\n",
    "    return abs(\n",
    "        (self.a*line.a* + self.b*line.b)\n",
    "        / (math.sqrt(self.a**2 + self.b**2)*math.sqrt(line.a**2 + line.b**2))\n",
    "    - 1.0) < EPS"
   ]
  },
  {
   "cell_type": "markdown",
   "metadata": {},
   "source": [
    "The angle between two lines is: $$\\alpha = \\text{arctan}\\left(\\frac{m_1-m_2}\n",
    "{1+m_1m_2}\\right)$$\n",
    "\n",
    "or for a general line: $$ \\alpha = \\text{arccos}\\left(\\frac{a_1a_2 + b_1b_2}{\\sqrt{(a_1^2 +\n",
    "b_1^2)(a_2^2 + b_2^2)}}\\right) $$"
   ]
  },
  {
   "cell_type": "code",
   "execution_count": 13,
   "metadata": {},
   "outputs": [],
   "source": [
    "def angle(self, line):\n",
    "    return math.acos(\n",
    "        (self.a*line.a + self.b*line.b)\n",
    "        / (math.sqrt(self.a**2 + self.b**2)*math.sqrt(line.a**2+line.b**2))\n",
    "    )"
   ]
  },
  {
   "cell_type": "markdown",
   "metadata": {},
   "source": [
    "A perpendicular line to $L_1$ has a parameter: $$m_2=-\\frac{1}{m_1}$$"
   ]
  },
  {
   "cell_type": "markdown",
   "metadata": {},
   "source": [
    "## Triangles"
   ]
  },
  {
   "cell_type": "markdown",
   "metadata": {},
   "source": [
    "Area of a triangle: $$ A = \\frac{bh}{2} $$\n",
    "Heron's formula: $$ A = \\sqrt{s(s-a)(s-b)(s-c)}$$\n",
    "with $s = \\frac{a+b+c}{2}$ the semi-perimeter of the triangle."
   ]
  },
  {
   "cell_type": "markdown",
   "metadata": {},
   "source": [
    "The radius of the ***incircle*** of a triangle is given by:\n",
    "$$r = \\frac{A}{s}$$\n",
    "with $A$ the area of the triangle and $s$ the semi-perimeter.\n",
    "\n",
    "The center of the ***incircle*** is the intersection of triangle's angle bisectors"
   ]
  },
  {
   "cell_type": "markdown",
   "metadata": {},
   "source": [
    "The radius of the circumcircle is given by the following expression:\n",
    "$$R = \\frac{abc}{4A}$$\n",
    "where $a, b, c$ are the side lengths of the triangle and $A$ the area of the triangle.\n",
    "\n",
    "The center of the circumcircle is the intersection of the triangle's perpendicular bisectors"
   ]
  },
  {
   "cell_type": "markdown",
   "metadata": {},
   "source": [
    "Cosine law:\n",
    "$$ a^2 = b^2 + c^2 - 2bc\\cos\\theta_A $$\n",
    "$$ b^2 = a^2 + c^2 - 2ac\\cos\\theta_B $$\n",
    "$$ c^2 = a^2 + b^2 - 2ab\\cos\\theta_C $$\n",
    "\n",
    "Sine law: $$ \\frac{\\sin\\theta_A}{a} = \\frac{\\sin\\theta_B}{b} = \\frac{\\sin\\theta_C}{c} $$"
   ]
  },
  {
   "cell_type": "markdown",
   "metadata": {},
   "source": [
    "## Cross-Product and Area of a Parallelepiped"
   ]
  },
  {
   "cell_type": "markdown",
   "metadata": {},
   "source": [
    "Given two points in the 2D space, we define the cross-product as:\n",
    "$$ (x_1,y_1) \\times (x_2,y_2) = x_1 y_2 - x_2 y_1 $$"
   ]
  },
  {
   "cell_type": "code",
   "execution_count": 14,
   "metadata": {},
   "outputs": [],
   "source": [
    "# Inside the Point class\n",
    "def cross(self, p):\n",
    "    return self.x*p.y - p.x*self.y"
   ]
  },
  {
   "cell_type": "markdown",
   "metadata": {},
   "source": [
    "Given a parallelepiped defined by its vertex $(0,0), (x_1, y_1), (x_2, y_2)$ and $(x_1+x_1,y_1+y_2)$, we can find its area using the cross product between $(x_1, y_1), (x_2, y_2)$.\n",
    "$$ A = \\left|v_1 \\times v_2\\right| = \\left|x_1 y_2 - x_2 y_1\\right| $$"
   ]
  },
  {
   "cell_type": "markdown",
   "metadata": {},
   "source": [
    "Similarly, the area of a triangle with one vertex at the origin, $v_1$ and $v_2$ is:\n",
    "$$ A = \\frac{\\left|v_1 \\times v_2\\right|}{2} $$"
   ]
  },
  {
   "cell_type": "markdown",
   "metadata": {},
   "source": [
    "We can also infer the relative position of the vectors.\n",
    "If: $$ v_1 \\times v_2 > 0 $$ then $v_1$ is in the clock-wise direction of $v_2$."
   ]
  },
  {
   "cell_type": "markdown",
   "metadata": {},
   "source": [
    "## Intersection of Line Segments"
   ]
  },
  {
   "cell_type": "markdown",
   "metadata": {},
   "source": [
    "Given two segments $p_1 p_2$ and $p_3 p_4$ we are interested in their intersection."
   ]
  },
  {
   "cell_type": "code",
   "execution_count": 15,
   "metadata": {},
   "outputs": [],
   "source": [
    "@dataclass\n",
    "class segment:\n",
    "    p: point\n",
    "    q: point"
   ]
  },
  {
   "cell_type": "markdown",
   "metadata": {},
   "source": [
    "It is easy to check that to see if the segments intersect, we require to check that the end points of the segments are on opposite sides of the other segment."
   ]
  },
  {
   "cell_type": "markdown",
   "metadata": {},
   "source": [
    "![](segment_intersection.png)"
   ]
  },
  {
   "cell_type": "markdown",
   "metadata": {},
   "source": [
    "To this end we can use the (normal) product as follows:\n",
    "$$ (\\vec{p_1 p_3} \\times \\vec{p_1 p_2}) \\cdot (\\vec{p_1 p_4} \\times \\vec{p_1 p_2}) $$"
   ]
  },
  {
   "cell_type": "markdown",
   "metadata": {},
   "source": [
    "If the expression is less than zero, it means that both cross product have different sign, hence the end points of the second line segments are at both sides of the first line segment.\n",
    "\n",
    "Then we repeat the procedure using $p_3 p_4$ as the first line segment."
   ]
  },
  {
   "cell_type": "code",
   "execution_count": 16,
   "metadata": {},
   "outputs": [],
   "source": [
    "def does_intersect(self, seg2, *, include_p=False, include_q=False):\n",
    "    cross1 = (seg2.q - self.p).cross(self.q - self.p)\n",
    "    cross2 = (seg2.p - self.p).cross(self.q - self.p)\n",
    "    cross3 = (self.q - seg2.p).cross(seg2.q - seg2.p)\n",
    "    cross4 = (self.p - seg2.p).cross(seg2.q - seg2.p)\n",
    "    return (\n",
    "        (cross1 * cross2 < 0 or\n",
    "            (include_p and math.fabs(cross2) < EPS)\n",
    "            or (include_q and math.fabs(cross1) < EPS))\n",
    "        and (cross3 * cross4 < 0\n",
    "            or (include_p and math.fabs(cross4) < EPS)\n",
    "            or (include_q and math.fabs(cross3) < EPS))\n",
    "    )"
   ]
  },
  {
   "cell_type": "code",
   "execution_count": 22,
   "metadata": {},
   "outputs": [
    {
     "data": {
      "text/plain": [
       "(True, True)"
      ]
     },
     "execution_count": 22,
     "metadata": {},
     "output_type": "execute_result"
    }
   ],
   "source": [
    "seg1 = segment(point(0, 0), point(1, 1))\n",
    "seg2 = segment(point(0, 1), point(1, 0))\n",
    "does_intersect(seg1, seg2), seg1.does_intersect(seg2)"
   ]
  },
  {
   "cell_type": "markdown",
   "metadata": {},
   "source": [
    "What do the `include_q` and `include_p` parameters do?"
   ]
  },
  {
   "cell_type": "markdown",
   "metadata": {},
   "source": [
    "## Circles"
   ]
  },
  {
   "cell_type": "markdown",
   "metadata": {},
   "source": [
    "* All points less than a distance $r$ from the center point $(a, b)$.\n",
    "* The perimeter of a circle is given by $2\\pi r$, where $r$ is the radius of the circle.\n",
    "* The area of a circle is given by $\\pi r^2$."
   ]
  },
  {
   "cell_type": "markdown",
   "metadata": {},
   "source": [
    "![](circles.png)"
   ]
  },
  {
   "cell_type": "markdown",
   "metadata": {},
   "source": [
    "* Length of an arc $ar$ where $a$ is the inner angle (in radians).\n",
    "* The area of the sector is $\\frac{ar^2}{2}$\n",
    "* Length of the chord (by using the law of cosines) is $\\sqrt{2r^2(1 - \\cos a)}$\n",
    "* Area of the segment is the area of the sector minus the area of an icoseles triangle of side lenghs $(r, r, \\sqrt{2r^2(1 - \\cos a)})$."
   ]
  },
  {
   "cell_type": "markdown",
   "metadata": {},
   "source": [
    "## Polygons"
   ]
  },
  {
   "cell_type": "markdown",
   "metadata": {},
   "source": [
    "A polygon is defined as a <u>***sorted***</u> list of vertex $(p_1, p_2, \\dots, p_n)$."
   ]
  },
  {
   "cell_type": "code",
   "execution_count": 30,
   "metadata": {},
   "outputs": [],
   "source": [
    "from itertools import islice, cycle\n",
    "\n",
    "@dataclass\n",
    "class polygon:\n",
    "    vertices: List[point]\n",
    "\n",
    "    def shifted_vertices(self, shift=1):\n",
    "        # v2, v3, ...., vN, v1\n",
    "        yield from islice(cycle(self.vertices), shift, len(self.vertices) + shift)\n",
    "    \n",
    "    @property\n",
    "    def segments(self):\n",
    "        for v1, v2 in zip(self.vertices, self.shifted_vertices()):\n",
    "            yield segment(v1, v2)\n",
    "\n",
    "    @property\n",
    "    def perimeter(self):\n",
    "        return sum((v1 - v2).norm() for v1, v2 in zip(self.vertices, self.shifted_vertices()))"
   ]
  },
  {
   "cell_type": "markdown",
   "metadata": {},
   "source": [
    "The (signed) area of a polygon can be calculated using the following formula:\n",
    "\n",
    "$$ A = \\frac{1}{2}\\left[\\begin{array}{cc} x_0 & y_0\\\\ x_1 & y_1\\\\ \\dots\\\\ x_N &\n",
    "y_N\\end{array}\\right] $$\n",
    "\n",
    "where the $[\\cdot]$ is a type of determinant as follows\n",
    "\n",
    "$$ \\left[\\begin{array}{cc} x_0 & y_0\\\\ x_1 & y_1\\\\ \\dots\\\\ x_N & y_N\\end{array}\\right] = x_0\n",
    "y_1 - x_1 y_0 + x_1 y_2 - x_2 y_1 + \\cdots = \\sum_{i=0}^{N-1} x_i y_{i+1} - x_{i+1} y_i $$"
   ]
  },
  {
   "cell_type": "code",
   "execution_count": 31,
   "metadata": {},
   "outputs": [],
   "source": [
    "def area(self):\n",
    "    return 0.5*sum(p2.y*p1.x - p2.x*p1.y for p1, p2 in zip(self.vertices, self.shifted_vertices()))"
   ]
  },
  {
   "cell_type": "markdown",
   "metadata": {},
   "source": [
    "We can check if the polygon is convex if the cross product between consecutive line segments has the same orientation (sign of the cross product)."
   ]
  },
  {
   "cell_type": "code",
   "execution_count": 34,
   "metadata": {},
   "outputs": [],
   "source": [
    "def is_convex(self):\n",
    "    clockwise = iter((p2 - p1).cross(p3 - p2) > 0\n",
    "                     for p1, p2, p3 in zip(self.vertices,\n",
    "                                           self.shifted_vertices(1),\n",
    "                                           self.shifted_vertices(2)))\n",
    "    first = next(clockwise)\n",
    "    return all(first == x for x in clockwise)"
   ]
  },
  {
   "cell_type": "markdown",
   "metadata": {},
   "source": [
    "### Point in a Polygon"
   ]
  },
  {
   "cell_type": "markdown",
   "metadata": {},
   "source": [
    "Given a polygon and a point $q$, how to check if the point $q$ is inside or outside the polygon?"
   ]
  },
  {
   "cell_type": "markdown",
   "metadata": {},
   "source": [
    "![](point_in_polygon_segment.png)"
   ]
  },
  {
   "cell_type": "markdown",
   "metadata": {},
   "source": [
    "* Find a point outside the polygon $p$\n",
    "* Cast a ray from $p$ to $q$\n",
    "* Check for the intersection of the ray $pq$ with all the segments of the polygon\n",
    "* If there is an odd number of intersection, $q$ is inside the polygon, otherwise it is outside."
   ]
  },
  {
   "cell_type": "code",
   "execution_count": 37,
   "metadata": {},
   "outputs": [],
   "source": [
    "def is_inside(self, q):\n",
    "    p = min(self.vertices, key=lambda v: v.x) - point(1, 0)\n",
    "    crosses = sum(1 if segment(p, q).does_intersect(s, include_p=True) else 0 for s in self.segments)\n",
    "    return crosses % 2 == 1"
   ]
  },
  {
   "cell_type": "markdown",
   "metadata": {},
   "source": [
    "A second approach is to sum the signed angles between the point and all the vertices of the polygon. If they sum up to $2\\pi$ then the point is inside the polygon."
   ]
  },
  {
   "cell_type": "markdown",
   "metadata": {},
   "source": [
    "![](point_in_polygon_angles.png)"
   ]
  },
  {
   "cell_type": "markdown",
   "metadata": {},
   "source": [
    "```Python\n",
    "## PSEUDO CODE\n",
    "def inside(self, p):\n",
    "    if len(self.vertices) == 0:\n",
    "        return False\n",
    "    s = 0\n",
    "    for s in self.segments:\n",
    "        if ccw(s.p, p, s.q):\n",
    "            s += angle(s.p, p, s.q)\n",
    "        else:\n",
    "            s -= angle(s.p, p, s.q)\n",
    "    return abs(abs(s) - 2*math.pi) < EPS\n",
    "```"
   ]
  },
  {
   "cell_type": "markdown",
   "metadata": {},
   "source": [
    "### Cutting a Polygon"
   ]
  },
  {
   "cell_type": "markdown",
   "metadata": {},
   "source": [
    "Given a line or segment:\n",
    "\n",
    "* Classify the vertices of the polygon in different sides of the line.\n",
    "* Find the intersection points of the line with the polygon.\n",
    "* Create two new polygons using the points on one side of the line plus the intersection points and the points on the other side of the line and the intersection points."
   ]
  },
  {
   "cell_type": "code",
   "execution_count": 39,
   "metadata": {},
   "outputs": [],
   "source": [
    "def polygon_split(self, s):\n",
    "    vertices1 = []\n",
    "    vertices2 = []\n",
    "    ds = s.p - s.q\n",
    "    l = line.from_points(s.p, s.q)\n",
    "    \n",
    "    u = self.vertices[-1]\n",
    "    side = ds.cross(u - s.q)\n",
    "    for v in self.vertices:\n",
    "        cross_prod = ds.cross(v - s.q)\n",
    "        if cross_prod*side < 0: \n",
    "            p = line.from_points(u, v).intersect(l)\n",
    "            vertices1.append(p)\n",
    "            vertices2.append(p)\n",
    "        if cross_prod <= 0:\n",
    "            vertices1.append(v)\n",
    "        if cross_prod >= 0:\n",
    "            vertices2.append(v)\n",
    "        side = cross_prod\n",
    "        u = v\n",
    "    return polygon(vertices1), polygon(vertices2)"
   ]
  },
  {
   "cell_type": "markdown",
   "metadata": {},
   "source": [
    "## Convex Hull"
   ]
  },
  {
   "cell_type": "markdown",
   "metadata": {},
   "source": [
    "Given a set of points, the convex hull is the minimum convex polygon encapsulating all points.\n",
    "\n",
    "1. Select the left-most point $p=p_0$ and any other point $q$.\n",
    "2. For all other points $r$:\n",
    "    1. If $pq \\times pr < 0$ then $q \\leftarrow r$.\n",
    "3. Add $pr$ to the convex hull.\n",
    "4. Set $p \\leftarrow r$, and repeat point 2 until point $p_0$ is reached again."
   ]
  },
  {
   "cell_type": "code",
   "execution_count": 41,
   "metadata": {},
   "outputs": [],
   "source": [
    "def hull(points):\n",
    "    if len(points) < 3:\n",
    "        return polygon(points)\n",
    "    q = min(points, key=lambda v: v.x)\n",
    "    p = point(q.x, q.y - 1)\n",
    "    ch = [p, q]\n",
    "    while True:\n",
    "        p, q = ch[-2], ch[-1]\n",
    "        u = max((v for v in points if v != p and v != q),\n",
    "        key=lambda x: q.angle(p, x))\n",
    "        if u in ch:\n",
    "            break\n",
    "        ch.append(u)\n",
    "    return polygon(ch[1:])"
   ]
  },
  {
   "cell_type": "markdown",
   "metadata": {},
   "source": [
    "![](convex_hull.png)"
   ]
  },
  {
   "cell_type": "markdown",
   "metadata": {},
   "source": [
    "## Definitions"
   ]
  },
  {
   "cell_type": "markdown",
   "metadata": {},
   "source": [
    "### Point Class"
   ]
  },
  {
   "cell_type": "code",
   "execution_count": 18,
   "metadata": {},
   "outputs": [],
   "source": [
    "@dataclass\n",
    "class point:\n",
    "    x: float\n",
    "    y: float\n",
    "\n",
    "    def __add__(self, t):\n",
    "        return point(self.x + t.x, self.y + t.y)\n",
    "    def __sub__(self, t):\n",
    "        return point(self.x - t.x, self.y - t.y)\n",
    "    def dot(self, a):\n",
    "        return self.x*a.x + self.y*a.y\n",
    "\n",
    "    def norm(self):\n",
    "        return math.sqrt(self.dot(self))\n",
    "    \n",
    "    def rotate(self, theta):\n",
    "        return point(\n",
    "            self.x*math.cos(theta) + self.y*math.sin(theta),\n",
    "            self.x*math.sin(theta) - self.y*math.cos(theta),\n",
    "        )\n",
    "    \n",
    "    def angle(self, a, c):\n",
    "        s1 = a - self\n",
    "        d1 = s1.norm()\n",
    "\n",
    "        s2 = c - self\n",
    "        d2 = s2.norm()\n",
    "\n",
    "        return math.acos(s1.dot(s2)/(d1*d2))\n",
    "\n",
    "    def cross(self, p):\n",
    "        return self.x*p.y - p.x*self.y"
   ]
  },
  {
   "cell_type": "markdown",
   "metadata": {},
   "source": [
    "### Line Class"
   ]
  },
  {
   "cell_type": "code",
   "execution_count": 20,
   "metadata": {},
   "outputs": [],
   "source": [
    "@dataclass\n",
    "class line:\n",
    "    a: float\n",
    "    b: float\n",
    "    c: float\n",
    "\n",
    "    @staticmethod\n",
    "    def from_points(p1, p2):\n",
    "        if abs(p1.x - p2.x) < EPS:\n",
    "            return line(1.0, 0.0, -p1.x)\n",
    "        else:\n",
    "            a = -(p1.y - p2.y) / (p1.x - p2.x)\n",
    "            b = 1.0\n",
    "            c = -(a * p1.x) - p1.y\n",
    "            return line(a, b, c)\n",
    "        \n",
    "    def slope(self):\n",
    "        return -self.a / self.b\n",
    "    def y_cross(self):\n",
    "        return -self.c / self.b\n",
    "    def x_cross(self):\n",
    "        return -self.c / self.a\n",
    "    \n",
    "    def normal(self):\n",
    "        return point(\n",
    "            self.a / math.sqrt(self.a**2 + self.b**2),\n",
    "            self.b / math.sqrt(self.a**2 + self.b**2)\n",
    "        )\n",
    "    def d(self):\n",
    "        return -self.c / math.sqrt(self.a**2 + self.b**2)\n",
    "    \n",
    "    def intersect(self, l):\n",
    "        return point(\n",
    "            (self.b*l.c - l.b*self.c)/ (self.a*l.b - l.a*self.b),\n",
    "            (self.a*l.c - l.a*self.c)/ (self.a*l.b - l.a*self.b)\n",
    "        )\n",
    "    \n",
    "    def are_parallel(self, line):\n",
    "        return abs(\n",
    "            (self.a*line.a* + self.b*line.b)\n",
    "            / (math.sqrt(self.a**2 + self.b**2)*math.sqrt(line.a**2 + line.b**2))\n",
    "        - 1.0) < EPS\n",
    "    \n",
    "    def angle(self, line):\n",
    "        return math.acos(\n",
    "            (self.a*line.a + self.b*line.b)\n",
    "            / (math.sqrt(self.a**2 + self.b**2)*math.sqrt(line.a**2+line.b**2))\n",
    "        )"
   ]
  },
  {
   "cell_type": "markdown",
   "metadata": {},
   "source": [
    "### Segment Class"
   ]
  },
  {
   "cell_type": "code",
   "execution_count": 21,
   "metadata": {},
   "outputs": [],
   "source": [
    "@dataclass\n",
    "class segment:\n",
    "    p: point\n",
    "    q: point\n",
    "\n",
    "    def does_intersect(self, seg2, *, include_p=False, include_q=False):\n",
    "        cross1 = (seg2.q - self.p).cross(self.q - self.p)\n",
    "        cross2 = (seg2.p - self.p).cross(self.q - self.p)\n",
    "        cross3 = (self.q - seg2.p).cross(seg2.q - seg2.p)\n",
    "        cross4 = (self.p - seg2.p).cross(seg2.q - seg2.p)\n",
    "        return (\n",
    "            (cross1 * cross2 < 0 or\n",
    "                (include_p and math.fabs(cross2) < EPS)\n",
    "                or (include_q and math.fabs(cross1) < EPS))\n",
    "            and (cross3 * cross4 < 0\n",
    "                or (include_p and math.fabs(cross4) < EPS)\n",
    "                or (include_q and math.fabs(cross3) < EPS))\n",
    "        )"
   ]
  },
  {
   "cell_type": "markdown",
   "metadata": {},
   "source": [
    "### Polygon Class"
   ]
  },
  {
   "cell_type": "code",
   "execution_count": 40,
   "metadata": {},
   "outputs": [],
   "source": [
    "from itertools import islice, cycle\n",
    "\n",
    "@dataclass\n",
    "class polygon:\n",
    "    vertices: List[point]\n",
    "\n",
    "    def shifted_vertices(self, shift=1):\n",
    "        # v2, v3, ...., vN, v1\n",
    "        yield from islice(cycle(self.vertices), shift, len(self.vertices) + shift)\n",
    "    \n",
    "    @property\n",
    "    def segments(self):\n",
    "        for v1, v2 in zip(self.vertices, self.shifted_vertices()):\n",
    "            yield segment(v1, v2)\n",
    "\n",
    "    @property\n",
    "    def perimeter(self):\n",
    "        return sum((v1 - v2).norm() for v1, v2 in zip(self.vertices, self.shifted_vertices()))\n",
    "    \n",
    "    @property\n",
    "    def area(self):\n",
    "        return 0.5*sum(p2.y*p1.x - p2.x*p1.y for p1, p2 in zip(self.vertices, self.shifted_vertices()))\n",
    "    \n",
    "    @property\n",
    "    def is_convex(self):\n",
    "        clockwise = iter((p2 - p1).cross(p3 - p2) > 0\n",
    "                        for p1, p2, p3 in zip(self.vertices,\n",
    "                                            self.shifted_vertices(1),\n",
    "                                            self.shifted_vertices(2)))\n",
    "        first = next(clockwise)\n",
    "        return all(first == x for x in clockwise)\n",
    "    \n",
    "    def is_inside(self, q):\n",
    "        p = min(self.vertices, key=lambda v: v.x) - point(1, 0)\n",
    "        crosses = sum(1 if segment(p, q).does_intersect(s, include_p=True) else 0 for s in self.segments)\n",
    "        return crosses % 2 == 1\n",
    "    \n",
    "    def polygon_split(self, s):\n",
    "        vertices1 = []\n",
    "        vertices2 = []\n",
    "        ds = s.p - s.q\n",
    "        l = line.from_points(s.p, s.q)\n",
    "        \n",
    "        u = self.vertices[-1]\n",
    "        side = ds.cross(u - s.q)\n",
    "        for v in self.vertices:\n",
    "            cross_prod = ds.cross(v - s.q)\n",
    "            if cross_prod*side < 0: \n",
    "                p = line.from_points(u, v).intersect(l)\n",
    "                vertices1.append(p)\n",
    "                vertices2.append(p)\n",
    "            if cross_prod <= 0:\n",
    "                vertices1.append(v)\n",
    "            if cross_prod >= 0:\n",
    "                vertices2.append(v)\n",
    "            side = cross_prod\n",
    "            u = v\n",
    "        return polygon(vertices1), polygon(vertices2)"
   ]
  },
  {
   "cell_type": "markdown",
   "metadata": {},
   "source": [
    "### Convex Hull Function"
   ]
  },
  {
   "cell_type": "code",
   "execution_count": 42,
   "metadata": {},
   "outputs": [],
   "source": [
    "def hull(points):\n",
    "    if len(points) < 3:\n",
    "        return polygon(points)\n",
    "    q = min(points, key=lambda v: v.x)\n",
    "    p = point(q.x, q.y - 1)\n",
    "    ch = [p, q]\n",
    "    while True:\n",
    "        p, q = ch[-2], ch[-1]\n",
    "        u = max((v for v in points if v != p and v != q),\n",
    "        key=lambda x: q.angle(p, x))\n",
    "        if u in ch:\n",
    "            break\n",
    "        ch.append(u)\n",
    "    return polygon(ch[1:])"
   ]
  },
  {
   "cell_type": "code",
   "execution_count": null,
   "metadata": {},
   "outputs": [],
   "source": []
  }
 ],
 "metadata": {
  "kernelspec": {
   "display_name": "Python 3 (ipykernel)",
   "language": "python",
   "name": "python3"
  },
  "language_info": {
   "codemirror_mode": {
    "name": "ipython",
    "version": 3
   },
   "file_extension": ".py",
   "mimetype": "text/x-python",
   "name": "python",
   "nbconvert_exporter": "python",
   "pygments_lexer": "ipython3",
   "version": "3.11.1"
  }
 },
 "nbformat": 4,
 "nbformat_minor": 2
}
